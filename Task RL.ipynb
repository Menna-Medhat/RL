{
 "cells": [
  {
   "cell_type": "code",
   "execution_count": 11,
   "id": "fdf592d4-7d62-4f87-b86e-93999feecb6e",
   "metadata": {},
   "outputs": [
    {
     "name": "stdin",
     "output_type": "stream",
     "text": [
      "Inter numper of Y =  3\n"
     ]
    },
    {
     "name": "stdout",
     "output_type": "stream",
     "text": [
      "\n",
      "\n",
      "\n"
     ]
    },
    {
     "name": "stdin",
     "output_type": "stream",
     "text": [
      "Y =  0\n"
     ]
    },
    {
     "name": "stdout",
     "output_type": "stream",
     "text": [
      "=====================================================\n",
      "Facebook = [-1.]\n",
      "C1 =       [-2.]\n",
      "C2 =       [-2.]\n",
      "C3 =       [-2.]\n",
      "Pub =      [1.]\n",
      "Pass =     [10.]\n",
      "Sleep =    [0.]\n",
      "\n",
      "\n"
     ]
    },
    {
     "name": "stdin",
     "output_type": "stream",
     "text": [
      "Y =  0.9\n"
     ]
    },
    {
     "name": "stdout",
     "output_type": "stream",
     "text": [
      "=====================================================\n",
      "Facebook = [-7.63760843]\n",
      "C1 =       [-5.01272891]\n",
      "C2 =       [0.9426553]\n",
      "C3 =       [4.08702125]\n",
      "Pub =      [1.90839235]\n",
      "Pass =     [10.]\n",
      "Sleep =    [0.]\n",
      "\n",
      "\n"
     ]
    },
    {
     "name": "stdin",
     "output_type": "stream",
     "text": [
      "Y =  1\n"
     ]
    },
    {
     "name": "stdout",
     "output_type": "stream",
     "text": [
      "=====================================================\n",
      "Facebook = [-22.54320988]\n",
      "C1 =       [-12.54320988]\n",
      "C2 =       [1.45679012]\n",
      "C3 =       [4.32098765]\n",
      "Pub =      [0.80246914]\n",
      "Pass =     [10.]\n",
      "Sleep =    [0.]\n",
      "\n",
      "\n"
     ]
    }
   ],
   "source": [
    "##### v = (( I - yP )**-1 )* R\n",
    "import numpy as np\n",
    "\n",
    "# matrix P (f,c1,c2,c3,pub,pass,s)\n",
    "P = np.array([[0.9, 0.1, 0, 0, 0, 0, 0.0],\n",
    "              [0.5, 0, 0.5, 0, 0, 0, 0.0],\n",
    "              [0, 0, 0, 0.8, 0, 0.0, 0.2],\n",
    "              [0, 0, 0, 0, 0.4, 0.6, 0.0],\n",
    "              [0, 0.2, 0.4, 0.4, 0, 0, 0],\n",
    "              [0, 0, 0, 0.0, 0.0, 0.0, 1],\n",
    "              [0, 0, 0, 0, 0.0, 0.0, 0.0]])\n",
    "\n",
    "I = np.eye(7)\n",
    "\n",
    "R = np.array([[-1, -2, -2, -2, 1, 10, 0]])\n",
    "\n",
    "n =int( input(\"Inter numper of Y = \")) #like 3\n",
    "\n",
    "print(\"\\n\\n\")\n",
    "\n",
    "for i in range(n):\n",
    "\n",
    "        Y = float(input(\"Y = \")) #like 0 , 0.9 , 1\n",
    "        \n",
    "        x = I - Y * P\n",
    "        \n",
    "        x = I - np.dot(Y, P)\n",
    "        \n",
    "        # z = (x)^-1\n",
    "        z = np.linalg.inv(x)\n",
    "        \n",
    "        # V = zR\n",
    "        V = np.dot(z, R.T)\n",
    "        \n",
    "        #print(\"V=\",V)\n",
    "        \n",
    "        print(\"=====================================================\")\n",
    "        \n",
    "        print(\"Facebook =\", V[0])\n",
    "        print(\"C1 =      \", V[1])\n",
    "        print(\"C2 =      \", V[2])\n",
    "        print(\"C3 =      \", V[3])\n",
    "        print(\"Pub =     \", V[4])\n",
    "        print(\"Pass =    \", V[5])\n",
    "        print(\"Sleep =   \", V[6])\n",
    "        print(\"\\n\")\n",
    "\n",
    "# Menna Medhat \n",
    "# MI"
   ]
  },
  {
   "cell_type": "code",
   "execution_count": null,
   "id": "954a69fd",
   "metadata": {},
   "outputs": [],
   "source": []
  }
 ],
 "metadata": {
  "kernelspec": {
   "display_name": "Python 3 (ipykernel)",
   "language": "python",
   "name": "python3"
  },
  "language_info": {
   "codemirror_mode": {
    "name": "ipython",
    "version": 3
   },
   "file_extension": ".py",
   "mimetype": "text/x-python",
   "name": "python",
   "nbconvert_exporter": "python",
   "pygments_lexer": "ipython3",
   "version": "3.10.0"
  }
 },
 "nbformat": 4,
 "nbformat_minor": 5
}
